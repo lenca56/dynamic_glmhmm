{
 "cells": [
  {
   "cell_type": "code",
   "execution_count": 21,
   "metadata": {},
   "outputs": [],
   "source": [
    "# importing packages and modules\n",
    "import pandas as pd \n",
    "import numpy as np\n",
    "import matplotlib.pyplot as plt\n",
    "import scipy.stats as stats\n",
    "from scipy.optimize import minimize\n",
    "from utils import *\n",
    "from plotting_utils import *\n",
    "from analysis_utils import *\n",
    "from io_utils import *\n",
    "import dynamic_glmhmm\n",
    "from scipy.stats import multivariate_normal, norm\n",
    "\n",
    "sns.set_context(\"talk\")\n",
    "\n",
    "ibl_data_path = '../data_IBL'\n",
    "colorsFeatures = [['#FAA61A','indigo','#99CC66','#59C3C3','#9593D9'],['#FAA61A',\"#2369BD\",\"#A9373B\",'#99CC66','#59C3C3','#9593D9']]\n",
    "colorsStates = ['tab:orange','tab:blue','tab:green','tab:purple', 'tab:brown']\n",
    "colormap = ['tab:purple','tab:pink','tab:cyan','yellowgreen', 'olive']\n",
    "myFeatures = [['bias','contrast right','contrast left', 'previous choice', 'previous reward'],['bias','signed stimulus', 'previous choice', 'previous reward']]\n",
    "ibl_data_path = '../data_IBL'\n",
    "dfAll = pd.read_csv(ibl_data_path + '/Ibl_processed.csv')"
   ]
  },
  {
   "cell_type": "code",
   "execution_count": 22,
   "metadata": {},
   "outputs": [],
   "source": [
    "labChosen =  ['angelakilab','churchlandlab','wittenlab']\n",
    "subjectsAll = []\n",
    "for lab in labChosen:\n",
    "    subjects = np.unique(dfAll[dfAll['lab'] == lab]['subject']).tolist()\n",
    "    subjectsAll = subjectsAll + subjects\n",
    "\n",
    "if ('NYU-01' in subjectsAll):\n",
    "    subjectsAll.remove('NYU-01')\n",
    "if ('NYU-06' in subjectsAll):\n",
    "    subjectsAll.remove('NYU-06')\n",
    "if ('CSHL_007' in subjectsAll):\n",
    "    subjectsAll.remove('CSHL_007')\n",
    "if ('CSHL049' in subjectsAll):\n",
    "    subjectsAll.remove('CSHL049')"
   ]
  },
  {
   "cell_type": "code",
   "execution_count": 2,
   "metadata": {},
   "outputs": [
    {
     "name": "stdout",
     "output_type": "stream",
     "text": [
      "{'NYU-02_2': 0.5742603524294715, 'CSHL_014_1': 0.6090935811427911, 'CSHL_004_3': 0.5359541293121273, 'ibl_witten_12_1': 0.6150570414767357, 'NYU-07_0': 0.5880024349174222, 'CSHL_008_4': 0.6233195533911372, 'CSHL_008_0': 0.6539761631664478, 'ibl_witten_12_3': 0.6018923274369526, 'ibl_witten_16_4': 0.6095078329780124, 'ibl_witten_12_2': 0.6215732549334083, 'CSHL_008_1': 0.6602427787046924, 'CSHL_003_4': 0.5726938345999559, 'CSHL_003_0': 0.576558152338823, 'NYU-07_2': 0.6014744104539701, 'NYU-07_1': 0.5899560356698261, 'CSHL_004_2': 0.5344134303393062, 'NYU-02_0': 0.5750953371378494, 'NYU-02_1': 0.5832940259415017, 'ibl_witten_16_2': 0.6211973291416101, 'CSHL_004_0': 0.5366964513013467, 'CSHL_014_2': 0.5842966401902765, 'NYU-02_4': 0.5799025705513096, 'CSHL_014_0': 0.5888776190063941, 'CSHL_010_1': 0.583524411847881, 'ibl_witten_16_1': 0.6275136688047368, 'CSHL_008_2': 0.6509717301124917, 'CSHL_010_2': 0.5892797428964204, 'CSHL_010_3': 0.5891444449457651, 'NYU-07_4': 0.5759463920203378, 'CSHL_010_4': 0.5748941012133271, 'CSHL_003_2': 0.5716698002755821, 'CSHL_014_4': 0.5796337269143407, 'CSHL_004_4': 0.5316751303062159, 'ibl_witten_12_0': 0.6159781829689837, 'CSHL_014_3': 0.580649990318701, 'CSHL_008_3': 0.6646388386394874, 'CSHL_004_1': 0.5446279721271942, 'ibl_witten_16_0': 0.6125520779779476, 'CSHL_003_1': 0.5772199387460051, 'ibl_witten_16_3': 0.6280123324812148, 'CSHL_010_0': 0.5918154192061804, 'NYU-07_3': 0.5799127620970235, 'CSHL_003_3': 0.5596178996243325, 'NYU-02_3': 0.5979402017043868, 'ibl_witten_12_4': 0.6054067891526308}\n"
     ]
    }
   ],
   "source": [
    "import json\n",
    "\n",
    "# Open and read the JSON file\n",
    "with open('../ihmm_trialwise_nlls.json', 'r') as file:\n",
    "    data_Sebastian = json.load(file)\n",
    "\n",
    "# Print the data\n",
    "print(data_Sebastian)"
   ]
  },
  {
   "cell_type": "code",
   "execution_count": 3,
   "metadata": {},
   "outputs": [],
   "source": [
    "animals_Sebastian = ['NYU-02','CSHL_014','CSHL_004','ibl_witten_12','NYU-07','CSHL_008','ibl_witten_16','CSHL_003','CSHL_010']"
   ]
  },
  {
   "cell_type": "code",
   "execution_count": 23,
   "metadata": {},
   "outputs": [
    {
     "name": "stdout",
     "output_type": "stream",
     "text": [
      "NYU-02\n",
      "9\n",
      "9\n",
      "9\n",
      "9\n",
      "9\n",
      "CSHL_014\n",
      "15\n",
      "15\n",
      "15\n",
      "15\n",
      "15\n",
      "CSHL_004\n",
      "44\n",
      "44\n",
      "44\n",
      "44\n",
      "44\n",
      "ibl_witten_12\n",
      "9\n",
      "9\n",
      "9\n",
      "9\n",
      "9\n",
      "NYU-07\n",
      "13\n",
      "13\n",
      "13\n",
      "13\n",
      "13\n",
      "CSHL_008\n",
      "17\n",
      "17\n",
      "17\n",
      "17\n",
      "17\n",
      "ibl_witten_16\n",
      "15\n",
      "15\n",
      "15\n",
      "15\n",
      "15\n",
      "CSHL_003\n",
      "22\n",
      "22\n",
      "22\n",
      "22\n",
      "22\n",
      "CSHL_010\n",
      "16\n",
      "16\n",
      "16\n",
      "16\n",
      "16\n"
     ]
    }
   ],
   "source": [
    "K = 3\n",
    "splitFolds = 5\n",
    "pTanh = 5\n",
    "signedStimulus = True\n",
    "bestSigmaInd=7\n",
    "Sebastians = []\n",
    "Lencas = []\n",
    "for subject in animals_Sebastian:\n",
    "    print(subject)\n",
    "    for fold in range(splitFolds):\n",
    "        data = np.load(f'../data_IBL/{subject}/{subject}_partialGLMHMM_CV_{K}-state_fold={fold}_pTanh={pTanh}_signedStimulus={signedStimulus}.npz')\n",
    "        x, y, sessInd, correctSide = get_mouse_design(dfAll, subject, sessStop=None, signedStimulus=signedStimulus, pTanh=pTanh)\n",
    "        _, _, _, firstBlockSession = get_design_biased_blocks(dfAll, subject, sessInd, None)\n",
    "        print(firstBlockSession)\n",
    "        # print(data['testLlSessions'][bestSigmaInd, :sessStop].mean())\n",
    "        Lencas.append(data['testLlSessions'][bestSigmaInd, :firstBlockSession].mean())\n",
    "        # print(data_Sebastian[f'{subject}_{fold}'])\n",
    "        Sebastians.append(np.log(data_Sebastian[f'{subject}_{fold}']))\n",
    "        "
   ]
  },
  {
   "cell_type": "code",
   "execution_count": 25,
   "metadata": {},
   "outputs": [
    {
     "name": "stdout",
     "output_type": "stream",
     "text": [
      "-0.5245326195055265\n",
      "-0.5008435064360864\n"
     ]
    }
   ],
   "source": [
    "print(np.mean(Sebastians))\n",
    "print(np.mean(Lencas))"
   ]
  }
 ],
 "metadata": {
  "kernelspec": {
   "display_name": "base",
   "language": "python",
   "name": "python3"
  },
  "language_info": {
   "codemirror_mode": {
    "name": "ipython",
    "version": 3
   },
   "file_extension": ".py",
   "mimetype": "text/x-python",
   "name": "python",
   "nbconvert_exporter": "python",
   "pygments_lexer": "ipython3",
   "version": "3.9.12"
  }
 },
 "nbformat": 4,
 "nbformat_minor": 2
}

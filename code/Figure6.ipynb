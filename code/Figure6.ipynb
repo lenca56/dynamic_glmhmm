{
 "cells": [
  {
   "cell_type": "code",
   "execution_count": 1,
   "metadata": {},
   "outputs": [],
   "source": [
    "# importing packages and modules\n",
    "import numpy as np\n",
    "import matplotlib as mpl\n",
    "import scipy.stats as stats\n",
    "from scipy.optimize import minimize, check_grad\n",
    "from io_utils import *\n",
    "from utils import *\n",
    "from plotting_utils import *\n",
    "from analysis_utils import *\n",
    "import dynamic_glmhmm\n",
    "from scipy.stats import multivariate_normal, norm\n",
    "sns.set_context(\"talk\")\n",
    "\n",
    "colormap = ['tab:purple','tab:pink','tab:cyan','yellowgreen', 'olive']\n",
    "colorsStates = ['tab:orange','tab:blue','tab:green','tab:purple', 'tab:brown']\n",
    "myFeatures = ['stimulus','bias','previous choice','previous correct side']\n",
    "ibl_data_path = '../data_IBL'\n",
    "# load dataset with all animals\n",
    "dfAll = pd.read_csv(ibl_data_path + '/Ibl_processed.csv')"
   ]
  },
  {
   "cell_type": "code",
   "execution_count": 2,
   "metadata": {},
   "outputs": [],
   "source": [
    "labChosen =  ['angelakilab','churchlandlab','wittenlab']\n",
    "subjectsAll = []\n",
    "for lab in labChosen:\n",
    "    subjects = np.unique(dfAll[dfAll['lab'] == lab]['subject']).tolist()\n",
    "    subjectsAll = subjectsAll + subjects\n",
    "\n",
    "# missing data\n",
    "if ('NYU-01' in subjectsAll):\n",
    "    subjectsAll.remove('NYU-01')\n",
    "if ('NYU-06' in subjectsAll):\n",
    "    subjectsAll.remove('NYU-06')\n",
    "if ('CSHL_007' in subjectsAll):\n",
    "    subjectsAll.remove('CSHL_007')\n",
    "if ('CSHL049' in subjectsAll):\n",
    "    subjectsAll.remove('CSHL049')\n",
    "\n",
    "avg_session_length = 995 # from ibl_witten_15"
   ]
  },
  {
   "cell_type": "code",
   "execution_count": 3,
   "metadata": {},
   "outputs": [],
   "source": [
    "# setting hyperparameters\n",
    "sigmaList = [0] + [10**x for x in list(np.arange(-3,1,0.5,dtype=float))] + [10**x for x in list(np.arange(1,4,1,dtype=float))]\n",
    "L2penaltyW = 0\n",
    "priorDirP = [10,1]\n",
    "maxiter = 300\n",
    "splitFolds = 5\n",
    "D = 4 # number of features\n",
    "sessStop = None # last session to use in fitting\n",
    "pTanh = 5 # tanh transformation\n",
    "signedStimulus = True # signed stimulus contrast\n",
    "fit_init_states = False # not fitting initial latent\n",
    "K_max = 5 # maximum number of states\n",
    "bestSigmaInd = 8  # Choosing best sigma index across animals\n",
    "bestAlphaInd = 2  # Choosing best sigma index across animals"
   ]
  },
  {
   "cell_type": "code",
   "execution_count": null,
   "metadata": {},
   "outputs": [],
   "source": []
  }
 ],
 "metadata": {
  "kernelspec": {
   "display_name": "base",
   "language": "python",
   "name": "python3"
  },
  "language_info": {
   "codemirror_mode": {
    "name": "ipython",
    "version": 3
   },
   "file_extension": ".py",
   "mimetype": "text/x-python",
   "name": "python",
   "nbconvert_exporter": "python",
   "pygments_lexer": "ipython3",
   "version": "3.9.12"
  }
 },
 "nbformat": 4,
 "nbformat_minor": 2
}
